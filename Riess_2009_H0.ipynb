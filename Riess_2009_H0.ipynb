{
 "cells": [
  {
   "cell_type": "code",
   "execution_count": 1,
   "metadata": {},
   "outputs": [],
   "source": [
    "import numpy as np\n",
    "import pymc3 as pm\n",
    "import pandas as pd\n",
    "import matplotlib.pyplot as plt\n",
    "from chainconsumer import ChainConsumer"
   ]
  },
  {
   "cell_type": "code",
   "execution_count": 2,
   "metadata": {},
   "outputs": [],
   "source": [
    "# Load the cepheid and SNe data.\n",
    "ceph = pd.read_csv('ceph.csv')\n",
    "sne = pd.read_csv('sne.csv')\n",
    "\n",
    "# Cut the rejected cepheids.\n",
    "ceph_cut = ceph['flag'].str.contains('rej', na=False)\n",
    "ceph = ceph[~ceph_cut]\n",
    "\n",
    "# Preprocess the host galaxy names in the cepheid catalog.\n",
    "def proc_ceph_host(x):\n",
    "    if 'NIC' in x:\n",
    "        return 'N4258'\n",
    "    else:\n",
    "        return 'N' + x[1:5]\n",
    "    \n",
    "ceph['host'] = ceph['host'].apply(proc_ceph_host)\n",
    "\n",
    "# Preprocess the host galaxy names in the SNe catalog.\n",
    "def proc_sne_host(x):\n",
    "    return 'N' + x[4:8]\n",
    "    \n",
    "sne['host'] = sne['host'].apply(proc_sne_host)"
   ]
  },
  {
   "cell_type": "code",
   "execution_count": null,
   "metadata": {},
   "outputs": [
    {
     "name": "stderr",
     "output_type": "stream",
     "text": [
      "Auto-assigning NUTS sampler...\n",
      "Initializing NUTS using jitter+adapt_diag...\n",
      "Multiprocess sampling (16 chains in 16 jobs)\n",
      "NUTS: [av, Z, m_4258, b, zp, d_4258, mu_N1309, mu_N3021, mu_N3370, mu_N3982, mu_N4639, mu_N4536]\n"
     ]
    },
    {
     "data": {
      "text/html": [
       "\n",
       "    <div>\n",
       "        <style>\n",
       "            /* Turns off some styling */\n",
       "            progress {\n",
       "                /* gets rid of default border in Firefox and Opera. */\n",
       "                border: none;\n",
       "                /* Needs to be in here for Safari polyfill so background images work as expected. */\n",
       "                background-size: auto;\n",
       "            }\n",
       "            .progress-bar-interrupted, .progress-bar-interrupted::-webkit-progress-bar {\n",
       "                background: #F44336;\n",
       "            }\n",
       "        </style>\n",
       "      <progress value='320000' class='' max='320000' style='width:300px; height:20px; vertical-align: middle;'></progress>\n",
       "      100.00% [320000/320000 04:11<00:00 Sampling 16 chains, 21,001 divergences]\n",
       "    </div>\n",
       "    "
      ],
      "text/plain": [
       "<IPython.core.display.HTML object>"
      ]
     },
     "metadata": {},
     "output_type": "display_data"
    },
    {
     "name": "stderr",
     "output_type": "stream",
     "text": [
      "Sampling 16 chains for 10_000 tune and 10_000 draw iterations (160_000 + 160_000 draws total) took 254 seconds.\n"
     ]
    }
   ],
   "source": [
    "with pm.Model() as model:\n",
    "    # Set priors for the SNe host distance moduli.\n",
    "    mu_hosts = {}\n",
    "    for host in sne['host']:\n",
    "        mu_hosts[host] = pm.Uniform('mu_%s' % host, lower=-100, upper=100)\n",
    "    \n",
    "    # NGC 4258 geometric distance prior.\n",
    "    d_4258 = pm.Normal('d_4258', mu=7.6, sigma=np.sqrt(0.17**2 + 0.15**2))\n",
    "    mu_hosts['N4258'] = 5 * np.log10(d_4258) + 25\n",
    "    pm.Deterministic('mu_N4258', mu_hosts['N4258'])\n",
    "\n",
    "    # Priors for the remaining model parameters.\n",
    "    zp = pm.Uniform('zp', lower=-100, upper=100)\n",
    "    b = pm.Uniform('b', lower=-100, upper=100)\n",
    "    m_4258 = pm.Uniform('m_4258', lower=-100, upper=100)\n",
    "    Z = pm.Uniform('Z', lower=-100, upper=100)\n",
    "    av = pm.Normal('av', mu=0.698, sigma=0.00225)\n",
    "\n",
    "    # Compute the predicted cepheid apparent magnitudes.\n",
    "    mu_arr = pm.math.stack([mu_hosts[host] for host in ceph['host']])\n",
    "    m_pred = (mu_arr - mu_hosts['N4258']) + zp + b * np.log10(ceph['period']) \\\n",
    "        + Z * (np.array(ceph['metallicity']) - 8.66)\n",
    "\n",
    "    # Cepheid likelihood term.\n",
    "    pm.Normal('m_cepheids', mu=m_pred, sigma=ceph['mag_err'], observed=ceph['mag'])\n",
    "\n",
    "    # Compute the predicted SNe apparent magnitudes.\n",
    "    mu_arr = pm.math.stack([mu_hosts[host] for host in sne['host']])\n",
    "    m_pred = (mu_arr - mu_hosts['N4258']) + m_4258\n",
    "\n",
    "    # SNe likelihood term.\n",
    "    m_sne = pm.Normal('m_sne', mu=m_pred, sigma=sne['m_err'], observed=np.array(sne['m+5av']) - 5 * av)\n",
    "\n",
    "    # Compute H0\n",
    "    H0 = np.power(10, (m_4258 - mu_hosts['N4258'] + 5 * av + 25)/5)\n",
    "    pm.Deterministic('H0', H0)\n",
    "    \n",
    "    # Run the sampler.\n",
    "    trace = pm.sample(cores=16, tune=10000, draws=10000)"
   ]
  },
  {
   "cell_type": "code",
   "execution_count": null,
   "metadata": {},
   "outputs": [],
   "source": [
    "var_names = [\n",
    "    'd_4258',\n",
    "    'av',\n",
    "    'mu_N4536',\n",
    "    'mu_N4639',\n",
    "    'mu_N3982',\n",
    "    'mu_N3370',\n",
    "    'mu_N3021',\n",
    "    'mu_N1309',\n",
    "    'mu_N4258',\n",
    "    'zp',\n",
    "    'b',\n",
    "    'm_4258',\n",
    "    'Z',\n",
    "    'H0'\n",
    "]\n",
    "\n",
    "params = [\n",
    "    '$d_{4258}$',\n",
    "    '$a_V$',\n",
    "    '$\\mu_{0,4536}$',\n",
    "    '$\\mu_{0,4639}$',\n",
    "    '$\\mu_{0,3982}$',\n",
    "    '$\\mu_{0,3370}$',\n",
    "    '$\\mu_{0,3021}$',\n",
    "    '$\\mu_{0,1309}$',\n",
    "    '$\\mu_{0,4258}$',\n",
    "    '$zp_{4258}$',\n",
    "    '$b$',\n",
    "    '$m_{SN,4258}^0$',\n",
    "    '$Z$',\n",
    "    r'$H_0\\ [{\\rm km s^{-1} Mpc^{-1}}]$'\n",
    "]\n",
    "\n",
    "chain = np.stack([trace[var] for var in var_names], axis=-1)\n",
    "\n",
    "c = ChainConsumer()\n",
    "c.add_chain(chain, parameters=params, name=\"This work\")\n",
    "c.plotter.plot(filename='corner.png')\n",
    "plt.show()"
   ]
  },
  {
   "cell_type": "code",
   "execution_count": null,
   "metadata": {},
   "outputs": [],
   "source": [
    "# Riess et.al 2009 result\n",
    "mean, stdev = 74.2, 3.4\n",
    "chain2 = np.random.normal(mean, stdev, size=1000000)\n",
    "c.add_chain(chain2, parameters=[r'$H_0\\ [{\\rm km s^{-1} Mpc^{-1}}]$'], name=\"Riess et al. (2009)\")"
   ]
  },
  {
   "cell_type": "code",
   "execution_count": null,
   "metadata": {},
   "outputs": [],
   "source": [
    "c.plotter.plot(filename='H0.png', parameters=[r'$H_0\\ [{\\rm km s^{-1} Mpc^{-1}}]$'], figsize='column')\n",
    "plt.savefig(\"H0-dist.png\", dpi=300)\n",
    "print(trace[\"H0\"].mean())"
   ]
  },
  {
   "cell_type": "code",
   "execution_count": null,
   "metadata": {},
   "outputs": [],
   "source": []
  }
 ],
 "metadata": {
  "kernelspec": {
   "display_name": "Python 3",
   "language": "python",
   "name": "python3"
  },
  "language_info": {
   "codemirror_mode": {
    "name": "ipython",
    "version": 3
   },
   "file_extension": ".py",
   "mimetype": "text/x-python",
   "name": "python",
   "nbconvert_exporter": "python",
   "pygments_lexer": "ipython3",
   "version": "3.8.3"
  }
 },
 "nbformat": 4,
 "nbformat_minor": 4
}
